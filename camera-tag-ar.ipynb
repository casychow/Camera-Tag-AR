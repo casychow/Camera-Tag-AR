{
 "cells": [
  {
   "cell_type": "markdown",
   "metadata": {},
   "source": [
    "Question 2 Math"
   ]
  },
  {
   "cell_type": "code",
   "execution_count": 194,
   "metadata": {},
   "outputs": [
    {
     "name": "stdout",
     "output_type": "stream",
     "text": [
      "[[-1219, -2918], [-2131, 3]]\n",
      "[-9895595, -3530590]\n",
      "1660.5736987728053 2697.5173616161583\n",
      "983.7005811985779\n"
     ]
    }
   ],
   "source": [
    "import numpy as np\n",
    "import math\n",
    "\n",
    "# Define the origin and three vanishing points that were manually detected\n",
    "origin = (1318, 1990)\n",
    "u1,v1=(1657,159)\n",
    "u2,v2=(745,3080)\n",
    "u3,v3=(2876,3077)\n",
    "\n",
    "# Compute A and b matrix\n",
    "A=[[u1-u3, v1-v3],[u2-u3, v2-v3]]\n",
    "b=[((u1-u3)*u2 + (v1-v3)*v2), ((u2-u3)*u1 + (v2-v3)*v1)]\n",
    "print(A)\n",
    "print(b)\n",
    "\n",
    "# Solve \"Ax=b\"\n",
    "x=np.linalg.lstsq(A,b)\n",
    "print(x)\n",
    "\n",
    "# Find principle point\n",
    "x0, y0 = np.dot(np.linalg.inv(A), b)\n",
    "print(x0, y0)\n",
    "\n",
    "# Find focal point\n",
    "focal_point = math.sqrt(-(u1-x0)*(u2-x0)-(v1-y0)*(v2-y0))\n",
    "print(focal_point)\n"
   ]
  },
  {
   "cell_type": "markdown",
   "metadata": {},
   "source": [
    "Question 3"
   ]
  },
  {
   "cell_type": "code",
   "execution_count": 195,
   "metadata": {},
   "outputs": [],
   "source": [
    "import numpy as np\n",
    "import matplotlib.pyplot as plt\n",
    "%matplotlib inline\n",
    "\n",
    "import cv2\n",
    "import cv2.aruco as aruco\n",
    "import os\n"
   ]
  },
  {
   "cell_type": "code",
   "execution_count": 115,
   "metadata": {},
   "outputs": [
    {
     "data": {
      "image/png": "[encoded data removed]",
      "text/plain": [
       "<Figure size 640x480 with 1 Axes>"
      ]
     },
     "metadata": {},
     "output_type": "display_data"
    }
   ],
   "source": [
    "aruco_dict = aruco.Dictionary_get(aruco.DICT_6X6_1000)\n",
    "\n",
    "# Dimensions in cm\n",
    "marker_length = 3.7\n",
    "marker_separation = 1.1\n",
    "aruco_params = aruco.DetectorParameters_create()\n",
    "board = aruco.GridBoard_create(5,7,marker_length,marker_separation,aruco_dict)\n",
    "imboard = board.draw((2000,2000))\n",
    "cv2.imwrite(\"chessboard.png\", imboard)\n",
    "fig = plt.figure()\n",
    "ax = fig.add_subplot(1,1,1)\n",
    "plt.imshow(imboard, interpolation=\"nearest\")\n",
    "ax.axis(\"off\")\n",
    "plt.show()"
   ]
  },
  {
   "cell_type": "code",
   "execution_count": 116,
   "metadata": {},
   "outputs": [],
   "source": [
    "counter, corners_list, id_list = [],[],[]\n",
    "first = 0\n",
    "folder = \"calibration_pics\"\n",
    "\n",
    "# Find aruco markers inside each image\n",
    "for filename in os.listdir(folder):\n",
    "    img = cv2.imread(os.path.join(folder, filename))\n",
    "    if img is not None:\n",
    "        img_gray = cv2.cvtColor(img, cv2.COLOR_BGR2GRAY)\n",
    "        corners, ids, rejected = aruco.detectMarkers(\n",
    "            img_gray,\n",
    "            aruco_dict,\n",
    "            parameters=aruco_params\n",
    "        )\n",
    "    if first:\n",
    "        corners_list = np.vstack((corners_list, corners))\n",
    "        id_list=np.vstack((id_list,ids))\n",
    "    else:\n",
    "        corners_list=corners\n",
    "        id_list=ids\n",
    "    first+=1\n",
    "    counter.append(len(ids))"
   ]
  },
  {
   "cell_type": "code",
   "execution_count": 117,
   "metadata": {},
   "outputs": [],
   "source": [
    "counter = np.array(counter)\n",
    "ret, mtx, dist, rvecs,tvecs = aruco.calibrateCameraAruco(\n",
    "    corners_list,\n",
    "    id_list,\n",
    "    counter,\n",
    "    board,\n",
    "    img_gray.shape,\n",
    "    None,\n",
    "    None\n",
    ")"
   ]
  },
  {
   "cell_type": "code",
   "execution_count": 118,
   "metadata": {},
   "outputs": [
    {
     "data": {
      "text/plain": [
       "array([[5.79809819e+03, 0.00000000e+00, 1.02532172e+03],\n",
       "       [0.00000000e+00, 5.72315054e+03, 1.24298224e+03],\n",
       "       [0.00000000e+00, 0.00000000e+00, 1.00000000e+00]])"
      ]
     },
     "execution_count": 118,
     "metadata": {},
     "output_type": "execute_result"
    }
   ],
   "source": [
    "mtx"
   ]
  },
  {
   "cell_type": "code",
   "execution_count": 119,
   "metadata": {},
   "outputs": [
    {
     "data": {
      "text/plain": [
       "array([[  2.52683115, -13.31615208,  -0.16441339,  -0.01637706,\n",
       "         14.82210046]])"
      ]
     },
     "execution_count": 119,
     "metadata": {},
     "output_type": "execute_result"
    }
   ],
   "source": [
    "dist"
   ]
  },
  {
   "cell_type": "markdown",
   "metadata": {},
   "source": [
    "Question 4\n",
    "\n",
    "Use the pyAprilTag package to detect an AprilTag in an image (or use OpenCV for an Aruco Tag), for which you should take a photo of a tag. Use the K matrix you obtained above, to draw a 3D cube of the same size of the tag on the image, as if this virtual cube really is on top of the tag. Document the methods you use, and show your AR results from at least two different perspectives.\n",
    "\n",
    "\n",
    "OpenCV's projectPoints, drawContours, addWeighted and line methods useful. You don't have to use all these methods."
   ]
  },
  {
   "cell_type": "code",
   "execution_count": 120,
   "metadata": {},
   "outputs": [],
   "source": [
    "# Setup Aruco variables\n",
    "aruco_dict = aruco.Dictionary_get(aruco.DICT_6X6_250)\n",
    "aruco_params = aruco.DetectorParameters_create()\n",
    "\n",
    "# Still using previous board and imboard variables"
   ]
  },
  {
   "cell_type": "code",
   "execution_count": 231,
   "metadata": {},
   "outputs": [
    {
     "name": "stdout",
     "output_type": "stream",
     "text": [
      "[[[-0.0375  0.0375  0.    ]]\n",
      "\n",
      " [[ 0.0375  0.0375  0.    ]]\n",
      "\n",
      " [[ 0.0375 -0.0375  0.    ]]\n",
      "\n",
      " [[-0.0375 -0.0375  0.    ]]]\n",
      "[[-0.0375  0.0375  0.08  ]\n",
      " [ 0.0375  0.0375  0.08  ]\n",
      " [ 0.0375 -0.0375  0.08  ]\n",
      " [-0.0375 -0.0375  0.08  ]\n",
      " [-0.0375  0.0375  0.    ]\n",
      " [ 0.0375  0.0375  0.    ]\n",
      " [ 0.0375 -0.0375  0.    ]\n",
      " [-0.0375 -0.0375  0.    ]]\n",
      "[[[-0.0375  0.0375  0.    ]]\n",
      "\n",
      " [[ 0.0375  0.0375  0.    ]]\n",
      "\n",
      " [[ 0.0375 -0.0375  0.    ]]\n",
      "\n",
      " [[-0.0375 -0.0375  0.    ]]]\n",
      "[[-0.0375  0.0375  0.08  ]\n",
      " [ 0.0375  0.0375  0.08  ]\n",
      " [ 0.0375 -0.0375  0.08  ]\n",
      " [-0.0375 -0.0375  0.08  ]\n",
      " [-0.0375  0.0375  0.    ]\n",
      " [ 0.0375  0.0375  0.    ]\n",
      " [ 0.0375 -0.0375  0.    ]\n",
      " [-0.0375 -0.0375  0.    ]]\n",
      "[[[-0.0375  0.0375  0.    ]]\n",
      "\n",
      " [[ 0.0375  0.0375  0.    ]]\n",
      "\n",
      " [[ 0.0375 -0.0375  0.    ]]\n",
      "\n",
      " [[-0.0375 -0.0375  0.    ]]]\n",
      "[[-0.0375  0.0375  0.08  ]\n",
      " [ 0.0375  0.0375  0.08  ]\n",
      " [ 0.0375 -0.0375  0.08  ]\n",
      " [-0.0375 -0.0375  0.08  ]\n",
      " [-0.0375  0.0375  0.    ]\n",
      " [ 0.0375  0.0375  0.    ]\n",
      " [ 0.0375 -0.0375  0.    ]\n",
      " [-0.0375 -0.0375  0.    ]]\n",
      "[[[-0.0375  0.0375  0.    ]]\n",
      "\n",
      " [[ 0.0375  0.0375  0.    ]]\n",
      "\n",
      " [[ 0.0375 -0.0375  0.    ]]\n",
      "\n",
      " [[-0.0375 -0.0375  0.    ]]]\n",
      "[[-0.0375  0.0375  0.08  ]\n",
      " [ 0.0375  0.0375  0.08  ]\n",
      " [ 0.0375 -0.0375  0.08  ]\n",
      " [-0.0375 -0.0375  0.08  ]\n",
      " [-0.0375  0.0375  0.    ]\n",
      " [ 0.0375  0.0375  0.    ]\n",
      " [ 0.0375 -0.0375  0.    ]\n",
      " [-0.0375 -0.0375  0.    ]]\n"
     ]
    }
   ],
   "source": [
    "# Load pictures from folder - will save finished pictures in current working directory\n",
    "folder = os.path.join(os.getcwd(), \"q4\")\n",
    "\n",
    "# Color coordinates\n",
    "color = (0, 0, 255) # Red\n",
    "line_thickness = 20\n",
    "projection_z = 0.075 # How much to project cube upwards from aruco tag face\n",
    "\n",
    "# Find aruco markers inside each image\n",
    "for filename in os.listdir(folder):\n",
    "    # Reset the variables for another file\n",
    "    rvecs, tvecs, object_points = 0,0,0\n",
    "    # This argument sometimes appears when looking for image files - remove file\n",
    "    if (filename != \".DS_Store\"): \n",
    "        img = cv2.imread(os.path.join(folder, filename))\n",
    "        if img is not None:\n",
    "            corners, ids, rejected = aruco.detectMarkers(\n",
    "                img,\n",
    "                aruco_dict,\n",
    "                parameters=aruco_params\n",
    "            )\n",
    "\n",
    "            # estimatePoseSingleMarkers takes in 1) array of array of corners, 2) markerLength (use ruler, unit in m),\n",
    "            #                                    3) cameraMatrix, and 4) distantCoefficients (from question 3)\n",
    "            # estimatePoseSingleMarkers returns 1) rotation matrix, 2) translation matrix, 3) objectPoints\n",
    "            rvecs, tvecs, object_points = aruco.estimatePoseSingleMarkers(corners, 0.075, mtx, dist)\n",
    "            #print(object_points)\n",
    "            new_object_points = np.copy(object_points)\n",
    "            new_object_points = np.append(new_object_points, object_points)\n",
    "            new_object_points = np.reshape(new_object_points, (8,3)) #reshape nparray to 8 rows of 3 columns of values\n",
    "\n",
    "            # Edit the first four arrays in new_object_points s.t. the last index is z\n",
    "            for ind, array in enumerate(new_object_points):\n",
    "                if (ind < len(new_object_points)/2):\n",
    "                    array[2] = projection_z\n",
    "            # First half of new_object_points will have a z value of projection_z\n",
    "            # The latter half will have a z value of 0\n",
    "\n",
    "            #print(new_object_points)\n",
    "\n",
    "            image_points, jacobian = cv2.projectPoints(new_object_points, rvecs, tvecs, mtx, dist)\n",
    "\n",
    "            # Flatten image_points to easily pack values together with .reshape()\n",
    "            image_points = np.ndarray.flatten(image_points)\n",
    "            new_image_points = []\n",
    "            for num in image_points:\n",
    "                new_image_points.append(int(abs(num))) # Some of the values are negative\n",
    "            new_image_points = np.reshape(new_image_points, (8,2))\n",
    "\n",
    "            # Now join all the lines\n",
    "            # Points 0-3: upper box\n",
    "            # Points 4-7: lower box\n",
    "            point0 = new_image_points[0]\n",
    "            point1 = new_image_points[1]\n",
    "            point2 = new_image_points[2]\n",
    "            point3 = new_image_points[3]\n",
    "            point4 = new_image_points[4]\n",
    "            point5 = new_image_points[5]\n",
    "            point6 = new_image_points[6]\n",
    "            point7 = new_image_points[7]\n",
    "\n",
    "            # Draw lines around upper box\n",
    "            cv2.line(img, point0, point1, color, line_thickness)\n",
    "            cv2.line(img, point1, point2, color, line_thickness)\n",
    "            cv2.line(img, point2, point3, color, line_thickness)\n",
    "            cv2.line(img, point3, point0, color, line_thickness)\n",
    "\n",
    "            # Draw lines around lower box\n",
    "            cv2.line(img, point4, point5, color, line_thickness)\n",
    "            cv2.line(img, point5, point6, color, line_thickness)\n",
    "            cv2.line(img, point6, point7, color, line_thickness)\n",
    "            cv2.line(img, point7, point4, color, line_thickness)\n",
    "\n",
    "            # Draw lines connecting lower and upper boxes\n",
    "            cv2.line(img, point4, point0, color, line_thickness)\n",
    "            cv2.line(img, point5, point1, color, line_thickness)\n",
    "            cv2.line(img, point6, point2, color, line_thickness)\n",
    "            cv2.line(img, point7, point3, color, line_thickness)\n",
    "\n",
    "            # Write to image\n",
    "            cv2.imwrite(filename, img=img)\n"
   ]
  }
 ],
 "metadata": {
  "kernelspec": {
   "display_name": "Python 3.9.12 ('myenv')",
   "language": "python",
   "name": "python3"
  },
  "language_info": {
   "codemirror_mode": {
    "name": "ipython",
    "version": 3
   },
   "file_extension": ".py",
   "mimetype": "text/x-python",
   "name": "python",
   "nbconvert_exporter": "python",
   "pygments_lexer": "ipython3",
   "version": "3.9.13"
  },
  "orig_nbformat": 4,
  "vscode": {
   "interpreter": {
    "hash": "80abf3a9fb5314e6019b88c3f2d8ecbd4207c1759cf81fd7623ca63a92b968a3"
   }
  }
 },
 "nbformat": 4,
 "nbformat_minor": 2
}
